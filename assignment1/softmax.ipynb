{
 "cells": [
  {
   "cell_type": "markdown",
   "metadata": {},
   "source": [
    "# Softmax exercise\n",
    "\n",
    "*Complete and hand in this completed worksheet (including its outputs and any supporting code outside of the worksheet) with your assignment submission. For more details see the [assignments page](http://vision.stanford.edu/teaching/cs231n/assignments.html) on the course website.*\n",
    "\n",
    "This exercise is analogous to the softmax exercise. You will:\n",
    "\n",
    "- implement a fully-vectorized **loss function** for the Softmax classifier\n",
    "- implement the fully-vectorized expression for its **analytic gradient**\n",
    "- **check your implementation** with numerical gradient\n",
    "- use a validation set to **tune the learning rate and regularization** strength\n",
    "- **optimize** the loss function with **SGD**\n",
    "- **visualize** the final learned weights\n"
   ]
  },
  {
   "cell_type": "code",
   "execution_count": 4,
   "metadata": {
    "collapsed": false
   },
   "outputs": [
    {
     "name": "stdout",
     "output_type": "stream",
     "text": [
      "The autoreload extension is already loaded. To reload it, use:\n",
      "  %reload_ext autoreload\n"
     ]
    }
   ],
   "source": [
    "import random\n",
    "import numpy as np\n",
    "from cs231n.data_utils import load_CIFAR10\n",
    "import matplotlib.pyplot as plt\n",
    "%matplotlib inline\n",
    "plt.rcParams['figure.figsize'] = (10.0, 8.0) # set default size of plots\n",
    "plt.rcParams['image.interpolation'] = 'nearest'\n",
    "plt.rcParams['image.cmap'] = 'gray'\n",
    "\n",
    "# for auto-reloading extenrnal modules\n",
    "# see http://stackoverflow.com/questions/1907993/autoreload-of-modules-in-ipython\n",
    "%load_ext autoreload\n",
    "%autoreload 2"
   ]
  },
  {
   "cell_type": "code",
   "execution_count": 5,
   "metadata": {
    "collapsed": false
   },
   "outputs": [
    {
     "name": "stdout",
     "output_type": "stream",
     "text": [
      "Train data shape:  (49000, 3073)\n",
      "Train labels shape:  (49000,)\n",
      "Validation data shape:  (1000, 3073)\n",
      "Validation labels shape:  (1000,)\n",
      "Test data shape:  (1000, 3073)\n",
      "Test labels shape:  (1000,)\n",
      "dev data shape:  (500, 3073)\n",
      "dev labels shape:  (500,)\n"
     ]
    }
   ],
   "source": [
    "def get_CIFAR10_data(num_training=49000, num_validation=1000, num_test=1000, num_dev=500):\n",
    "  \"\"\"\n",
    "  Load the CIFAR-10 dataset from disk and perform preprocessing to prepare\n",
    "  it for the linear classifier. These are the same steps as we used for the\n",
    "  softmax, but condensed to a single function.  \n",
    "  \"\"\"\n",
    "  # Load the raw CIFAR-10 data\n",
    "  cifar10_dir = 'cs231n/datasets/cifar-10-batches-py'\n",
    "  X_train, y_train, X_test, y_test = load_CIFAR10(cifar10_dir)\n",
    "  \n",
    "  # subsample the data\n",
    "  mask = range(num_training, num_training + num_validation)\n",
    "  X_val = X_train[mask]\n",
    "  y_val = y_train[mask]\n",
    "  mask = range(num_training)\n",
    "  X_train = X_train[mask]\n",
    "  y_train = y_train[mask]\n",
    "  mask = range(num_test)\n",
    "  X_test = X_test[mask]\n",
    "  y_test = y_test[mask]\n",
    "  mask = np.random.choice(num_training, num_dev, replace=False)\n",
    "  X_dev = X_train[mask]\n",
    "  y_dev = y_train[mask]\n",
    "  \n",
    "  # Preprocessing: reshape the image data into rows\n",
    "  X_train = np.reshape(X_train, (X_train.shape[0], -1))\n",
    "  X_val = np.reshape(X_val, (X_val.shape[0], -1))\n",
    "  X_test = np.reshape(X_test, (X_test.shape[0], -1))\n",
    "  X_dev = np.reshape(X_dev, (X_dev.shape[0], -1))\n",
    "  \n",
    "  # Normalize the data: subtract the mean image\n",
    "  mean_image = np.mean(X_train, axis = 0)\n",
    "  X_train -= mean_image\n",
    "  X_val -= mean_image\n",
    "  X_test -= mean_image\n",
    "  X_dev -= mean_image\n",
    "  \n",
    "  # add bias dimension and transform into columns\n",
    "  X_train = np.hstack([X_train, np.ones((X_train.shape[0], 1))])\n",
    "  X_val = np.hstack([X_val, np.ones((X_val.shape[0], 1))])\n",
    "  X_test = np.hstack([X_test, np.ones((X_test.shape[0], 1))])\n",
    "  X_dev = np.hstack([X_dev, np.ones((X_dev.shape[0], 1))])\n",
    "  \n",
    "  return X_train, y_train, X_val, y_val, X_test, y_test, X_dev, y_dev\n",
    "\n",
    "\n",
    "# Invoke the above function to get our data.\n",
    "X_train, y_train, X_val, y_val, X_test, y_test, X_dev, y_dev = get_CIFAR10_data()\n",
    "print 'Train data shape: ', X_train.shape\n",
    "print 'Train labels shape: ', y_train.shape\n",
    "print 'Validation data shape: ', X_val.shape\n",
    "print 'Validation labels shape: ', y_val.shape\n",
    "print 'Test data shape: ', X_test.shape\n",
    "print 'Test labels shape: ', y_test.shape\n",
    "print 'dev data shape: ', X_dev.shape\n",
    "print 'dev labels shape: ', y_dev.shape"
   ]
  },
  {
   "cell_type": "markdown",
   "metadata": {},
   "source": [
    "## Softmax Classifier\n",
    "\n",
    "Your code for this section will all be written inside **cs231n/classifiers/softmax.py**. \n"
   ]
  },
  {
   "cell_type": "code",
   "execution_count": 11,
   "metadata": {
    "collapsed": false
   },
   "outputs": [
    {
     "data": {
      "text/plain": [
       "0.0"
      ]
     },
     "execution_count": 11,
     "metadata": {},
     "output_type": "execute_result"
    }
   ],
   "source": [
    "np.log(1)"
   ]
  },
  {
   "cell_type": "code",
   "execution_count": 42,
   "metadata": {
    "collapsed": false
   },
   "outputs": [
    {
     "name": "stdout",
     "output_type": "stream",
     "text": [
      "loss: 2.343473\n",
      "sanity check: 2.302585\n"
     ]
    }
   ],
   "source": [
    "# First implement the naive softmax loss function with nested loops.\n",
    "# Open the file cs231n/classifiers/softmax.py and implement the\n",
    "# softmax_loss_naive function.\n",
    "\n",
    "from cs231n.classifiers.softmax import softmax_loss_naive\n",
    "import time\n",
    "\n",
    "# Generate a random softmax weight matrix and use it to compute the loss.\n",
    "W = np.random.randn(3073, 10) * 0.0001\n",
    "loss, grad = softmax_loss_naive(W, X_dev, y_dev, 0.0)\n",
    "\n",
    "# As a rough sanity check, our loss should be something close to -log(0.1).\n",
    "print 'loss: %f' % loss\n",
    "print 'sanity check: %f' % (-np.log(0.1))"
   ]
  },
  {
   "cell_type": "markdown",
   "metadata": {},
   "source": [
    "## Inline Question 1:\n",
    "Why do we expect our loss to be close to -log(0.1)? Explain briefly.**\n",
    "\n",
    "**Your answer:** *Fill this in*\n"
   ]
  },
  {
   "cell_type": "code",
   "execution_count": 50,
   "metadata": {
    "collapsed": false
   },
   "outputs": [
    {
     "name": "stdout",
     "output_type": "stream",
     "text": [
      "numerical: -7.528133 analytic: -7.527848, relative error: 1.894994e-05\n",
      "numerical: -0.960544 analytic: -0.960465, relative error: 4.151428e-05\n",
      "numerical: -0.189876 analytic: -0.189798, relative error: 2.044770e-04\n",
      "numerical: -1.097582 analytic: -1.097525, relative error: 2.577721e-05\n",
      "numerical: 0.928492 analytic: 0.928440, relative error: 2.781084e-05\n",
      "numerical: -0.610671 analytic: -0.610739, relative error: 5.557239e-05\n",
      "numerical: 2.572480 analytic: 2.572523, relative error: 8.434127e-06\n",
      "numerical: 2.293193 analytic: 2.293305, relative error: 2.448523e-05\n",
      "numerical: -1.302869 analytic: -1.302798, relative error: 2.730668e-05\n",
      "numerical: 3.156990 analytic: 3.157080, relative error: 1.428779e-05\n",
      "numerical: -1.274853 analytic: -1.274783, relative error: 2.719483e-05\n",
      "numerical: 1.564297 analytic: 1.566382, relative error: 6.659946e-04\n",
      "numerical: 2.287513 analytic: 2.292326, relative error: 1.050949e-03\n",
      "numerical: -0.160458 analytic: -0.150139, relative error: 3.322481e-02\n",
      "numerical: 0.411228 analytic: 0.413958, relative error: 3.308819e-03\n",
      "numerical: 2.762857 analytic: 2.766548, relative error: 6.675171e-04\n",
      "numerical: 1.647099 analytic: 1.637219, relative error: 3.008131e-03\n",
      "numerical: 0.389458 analytic: 0.404892, relative error: 1.942931e-02\n",
      "numerical: 0.703358 analytic: 0.703484, relative error: 8.988788e-05\n",
      "numerical: -0.397317 analytic: -0.380528, relative error: 2.158355e-02\n"
     ]
    }
   ],
   "source": [
    "# Complete the implementation of softmax_loss_naive and implement a (naive)\n",
    "# version of the gradient that uses nested loops.\n",
    "loss, grad = softmax_loss_naive(W, X_dev, y_dev, 0.0)\n",
    "\n",
    "# As we did for the softmax, use numeric gradient checking as a debugging tool.\n",
    "# The numeric gradient should be close to the analytic gradient.\n",
    "from cs231n.gradient_check import grad_check_sparse\n",
    "f = lambda w: softmax_loss_naive(w, X_dev, y_dev, 0.0)[0]\n",
    "grad_numerical = grad_check_sparse(f, W, grad, 10)\n",
    "\n",
    "# similar to softmax case, do another gradient check with regularization\n",
    "loss, grad = softmax_loss_naive(W, X_dev, y_dev, 1e2)\n",
    "f = lambda w: softmax_loss_naive(w, X_dev, y_dev, 1e2)[0]\n",
    "grad_numerical = grad_check_sparse(f, W, grad, 10)"
   ]
  },
  {
   "cell_type": "code",
   "execution_count": 58,
   "metadata": {
    "collapsed": false
   },
   "outputs": [
    {
     "name": "stdout",
     "output_type": "stream",
     "text": [
      "naive loss: 2.343473e+00 computed in 0.061409s\n",
      "vectorized loss: 2.343473e+00 computed in 0.005268s\n",
      "Loss difference: 0.000000\n",
      "Gradient difference: 0.000000\n"
     ]
    }
   ],
   "source": [
    "# Now that we have a naive implementation of the softmax loss function and its gradient,\n",
    "# implement a vectorized version in softmax_loss_vectorized.\n",
    "# The two versions should compute the same results, but the vectorized version should be\n",
    "# much faster.\n",
    "tic = time.time()\n",
    "loss_naive, grad_naive = softmax_loss_naive(W, X_dev, y_dev, 0.00001)\n",
    "toc = time.time()\n",
    "print 'naive loss: %e computed in %fs' % (loss_naive, toc - tic)\n",
    "\n",
    "from cs231n.classifiers.softmax import softmax_loss_vectorized\n",
    "tic = time.time()\n",
    "loss_vectorized, grad_vectorized = softmax_loss_vectorized(W, X_dev, y_dev, 0.00001)\n",
    "toc = time.time()\n",
    "print 'vectorized loss: %e computed in %fs' % (loss_vectorized, toc - tic)\n",
    "\n",
    "# As we did for the softmax, we use the Frobenius norm to compare the two versions\n",
    "# of the gradient.\n",
    "grad_difference = np.linalg.norm(grad_naive - grad_vectorized, ord='fro')\n",
    "print 'Loss difference: %f' % np.abs(loss_naive - loss_vectorized)\n",
    "print 'Gradient difference: %f' % grad_difference"
   ]
  },
  {
   "cell_type": "code",
   "execution_count": 63,
   "metadata": {
    "collapsed": false
   },
   "outputs": [
    {
     "name": "stderr",
     "output_type": "stream",
     "text": [
      "cs231n/classifiers/softmax.py:83: RuntimeWarning: overflow encountered in exp\n",
      "  score = np.exp(score)\n",
      "cs231n/classifiers/softmax.py:85: RuntimeWarning: invalid value encountered in divide\n",
      "  print row_sum.shape\n",
      "cs231n/classifiers/softmax.py:87: RuntimeWarning: divide by zero encountered in log\n",
      "  print score.shape\n"
     ]
    },
    {
     "name": "stdout",
     "output_type": "stream",
     "text": [
      "lr 1.000000e-05 reg 1.000000e+01 train accuracy: 0.315816 val accuracy: 0.306000\n",
      "lr 1.000000e-05 reg 1.001000e+04 train accuracy: 0.179347 val accuracy: 0.182000\n",
      "lr 1.000000e-05 reg 2.001000e+04 train accuracy: 0.171837 val accuracy: 0.148000\n",
      "lr 1.000000e-05 reg 3.001000e+04 train accuracy: 0.165755 val accuracy: 0.174000\n",
      "lr 1.000000e-05 reg 4.001000e+04 train accuracy: 0.133571 val accuracy: 0.122000\n",
      "lr 1.000000e-05 reg 5.001000e+04 train accuracy: 0.115878 val accuracy: 0.113000\n",
      "lr 1.000000e-05 reg 6.001000e+04 train accuracy: 0.130388 val accuracy: 0.138000\n",
      "lr 1.000000e-05 reg 7.001000e+04 train accuracy: 0.119980 val accuracy: 0.118000\n",
      "lr 1.000000e-05 reg 8.001000e+04 train accuracy: 0.116714 val accuracy: 0.116000\n",
      "lr 1.000000e-05 reg 9.001000e+04 train accuracy: 0.118857 val accuracy: 0.122000\n",
      "lr 1.001000e-02 reg 1.000000e+01 train accuracy: 0.100265 val accuracy: 0.087000\n",
      "lr 1.001000e-02 reg 1.001000e+04 train accuracy: 0.100265 val accuracy: 0.087000\n",
      "lr 1.001000e-02 reg 2.001000e+04 train accuracy: 0.100265 val accuracy: 0.087000\n",
      "lr 1.001000e-02 reg 3.001000e+04 train accuracy: 0.100265 val accuracy: 0.087000\n",
      "lr 1.001000e-02 reg 4.001000e+04 train accuracy: 0.100265 val accuracy: 0.087000\n",
      "lr 1.001000e-02 reg 5.001000e+04 train accuracy: 0.100265 val accuracy: 0.087000\n",
      "lr 1.001000e-02 reg 6.001000e+04 train accuracy: 0.100265 val accuracy: 0.087000\n",
      "lr 1.001000e-02 reg 7.001000e+04 train accuracy: 0.100265 val accuracy: 0.087000\n",
      "lr 1.001000e-02 reg 8.001000e+04 train accuracy: 0.100265 val accuracy: 0.087000\n",
      "lr 1.001000e-02 reg 9.001000e+04 train accuracy: 0.100265 val accuracy: 0.087000\n",
      "lr 2.001000e-02 reg 1.000000e+01 train accuracy: 0.100265 val accuracy: 0.087000\n",
      "lr 2.001000e-02 reg 1.001000e+04 train accuracy: 0.100265 val accuracy: 0.087000\n",
      "lr 2.001000e-02 reg 2.001000e+04 train accuracy: 0.100265 val accuracy: 0.087000\n",
      "lr 2.001000e-02 reg 3.001000e+04 train accuracy: 0.100265 val accuracy: 0.087000\n",
      "lr 2.001000e-02 reg 4.001000e+04 train accuracy: 0.100265 val accuracy: 0.087000\n",
      "lr 2.001000e-02 reg 5.001000e+04 train accuracy: 0.100265 val accuracy: 0.087000\n",
      "lr 2.001000e-02 reg 6.001000e+04 train accuracy: 0.100265 val accuracy: 0.087000\n",
      "lr 2.001000e-02 reg 7.001000e+04 train accuracy: 0.100265 val accuracy: 0.087000\n",
      "lr 2.001000e-02 reg 8.001000e+04 train accuracy: 0.100265 val accuracy: 0.087000\n",
      "lr 2.001000e-02 reg 9.001000e+04 train accuracy: 0.100265 val accuracy: 0.087000\n",
      "lr 3.001000e-02 reg 1.000000e+01 train accuracy: 0.100265 val accuracy: 0.087000\n",
      "lr 3.001000e-02 reg 1.001000e+04 train accuracy: 0.100265 val accuracy: 0.087000\n",
      "lr 3.001000e-02 reg 2.001000e+04 train accuracy: 0.100265 val accuracy: 0.087000\n",
      "lr 3.001000e-02 reg 3.001000e+04 train accuracy: 0.100265 val accuracy: 0.087000\n",
      "lr 3.001000e-02 reg 4.001000e+04 train accuracy: 0.100265 val accuracy: 0.087000\n",
      "lr 3.001000e-02 reg 5.001000e+04 train accuracy: 0.100265 val accuracy: 0.087000\n",
      "lr 3.001000e-02 reg 6.001000e+04 train accuracy: 0.100265 val accuracy: 0.087000\n",
      "lr 3.001000e-02 reg 7.001000e+04 train accuracy: 0.100265 val accuracy: 0.087000\n",
      "lr 3.001000e-02 reg 8.001000e+04 train accuracy: 0.100265 val accuracy: 0.087000\n",
      "lr 3.001000e-02 reg 9.001000e+04 train accuracy: 0.100265 val accuracy: 0.087000\n",
      "lr 4.001000e-02 reg 1.000000e+01 train accuracy: 0.100265 val accuracy: 0.087000\n",
      "lr 4.001000e-02 reg 1.001000e+04 train accuracy: 0.100265 val accuracy: 0.087000\n",
      "lr 4.001000e-02 reg 2.001000e+04 train accuracy: 0.100265 val accuracy: 0.087000\n",
      "lr 4.001000e-02 reg 3.001000e+04 train accuracy: 0.100265 val accuracy: 0.087000\n",
      "lr 4.001000e-02 reg 4.001000e+04 train accuracy: 0.100265 val accuracy: 0.087000\n",
      "lr 4.001000e-02 reg 5.001000e+04 train accuracy: 0.100265 val accuracy: 0.087000\n",
      "lr 4.001000e-02 reg 6.001000e+04 train accuracy: 0.100265 val accuracy: 0.087000\n",
      "lr 4.001000e-02 reg 7.001000e+04 train accuracy: 0.100265 val accuracy: 0.087000\n",
      "lr 4.001000e-02 reg 8.001000e+04 train accuracy: 0.100265 val accuracy: 0.087000\n",
      "lr 4.001000e-02 reg 9.001000e+04 train accuracy: 0.100265 val accuracy: 0.087000\n",
      "lr 5.001000e-02 reg 1.000000e+01 train accuracy: 0.100265 val accuracy: 0.087000\n",
      "lr 5.001000e-02 reg 1.001000e+04 train accuracy: 0.100265 val accuracy: 0.087000\n",
      "lr 5.001000e-02 reg 2.001000e+04 train accuracy: 0.100265 val accuracy: 0.087000\n",
      "lr 5.001000e-02 reg 3.001000e+04 train accuracy: 0.100265 val accuracy: 0.087000\n",
      "lr 5.001000e-02 reg 4.001000e+04 train accuracy: 0.100265 val accuracy: 0.087000\n",
      "lr 5.001000e-02 reg 5.001000e+04 train accuracy: 0.100265 val accuracy: 0.087000\n",
      "lr 5.001000e-02 reg 6.001000e+04 train accuracy: 0.100265 val accuracy: 0.087000\n",
      "lr 5.001000e-02 reg 7.001000e+04 train accuracy: 0.100265 val accuracy: 0.087000\n",
      "lr 5.001000e-02 reg 8.001000e+04 train accuracy: 0.100265 val accuracy: 0.087000\n",
      "lr 5.001000e-02 reg 9.001000e+04 train accuracy: 0.100265 val accuracy: 0.087000\n",
      "lr 6.001000e-02 reg 1.000000e+01 train accuracy: 0.100265 val accuracy: 0.087000\n",
      "lr 6.001000e-02 reg 1.001000e+04 train accuracy: 0.100265 val accuracy: 0.087000\n",
      "lr 6.001000e-02 reg 2.001000e+04 train accuracy: 0.100265 val accuracy: 0.087000\n",
      "lr 6.001000e-02 reg 3.001000e+04 train accuracy: 0.100265 val accuracy: 0.087000\n",
      "lr 6.001000e-02 reg 4.001000e+04 train accuracy: 0.100265 val accuracy: 0.087000\n",
      "lr 6.001000e-02 reg 5.001000e+04 train accuracy: 0.100265 val accuracy: 0.087000\n",
      "lr 6.001000e-02 reg 6.001000e+04 train accuracy: 0.100265 val accuracy: 0.087000\n",
      "lr 6.001000e-02 reg 7.001000e+04 train accuracy: 0.100265 val accuracy: 0.087000\n",
      "lr 6.001000e-02 reg 8.001000e+04 train accuracy: 0.100265 val accuracy: 0.087000\n",
      "lr 6.001000e-02 reg 9.001000e+04 train accuracy: 0.100265 val accuracy: 0.087000\n",
      "lr 7.001000e-02 reg 1.000000e+01 train accuracy: 0.100265 val accuracy: 0.087000\n",
      "lr 7.001000e-02 reg 1.001000e+04 train accuracy: 0.100265 val accuracy: 0.087000\n",
      "lr 7.001000e-02 reg 2.001000e+04 train accuracy: 0.100265 val accuracy: 0.087000\n",
      "lr 7.001000e-02 reg 3.001000e+04 train accuracy: 0.100265 val accuracy: 0.087000\n",
      "lr 7.001000e-02 reg 4.001000e+04 train accuracy: 0.100265 val accuracy: 0.087000\n",
      "lr 7.001000e-02 reg 5.001000e+04 train accuracy: 0.100265 val accuracy: 0.087000\n",
      "lr 7.001000e-02 reg 6.001000e+04 train accuracy: 0.100265 val accuracy: 0.087000\n",
      "lr 7.001000e-02 reg 7.001000e+04 train accuracy: 0.100265 val accuracy: 0.087000\n",
      "lr 7.001000e-02 reg 8.001000e+04 train accuracy: 0.100265 val accuracy: 0.087000\n",
      "lr 7.001000e-02 reg 9.001000e+04 train accuracy: 0.100265 val accuracy: 0.087000\n",
      "lr 8.001000e-02 reg 1.000000e+01 train accuracy: 0.100265 val accuracy: 0.087000\n",
      "lr 8.001000e-02 reg 1.001000e+04 train accuracy: 0.100265 val accuracy: 0.087000\n",
      "lr 8.001000e-02 reg 2.001000e+04 train accuracy: 0.100265 val accuracy: 0.087000\n",
      "lr 8.001000e-02 reg 3.001000e+04 train accuracy: 0.100265 val accuracy: 0.087000\n",
      "lr 8.001000e-02 reg 4.001000e+04 train accuracy: 0.100265 val accuracy: 0.087000\n",
      "lr 8.001000e-02 reg 5.001000e+04 train accuracy: 0.100265 val accuracy: 0.087000\n",
      "lr 8.001000e-02 reg 6.001000e+04 train accuracy: 0.100265 val accuracy: 0.087000\n",
      "lr 8.001000e-02 reg 7.001000e+04 train accuracy: 0.100265 val accuracy: 0.087000\n",
      "lr 8.001000e-02 reg 8.001000e+04 train accuracy: 0.100265 val accuracy: 0.087000\n",
      "lr 8.001000e-02 reg 9.001000e+04 train accuracy: 0.100265 val accuracy: 0.087000\n",
      "lr 9.001000e-02 reg 1.000000e+01 train accuracy: 0.100265 val accuracy: 0.087000\n",
      "lr 9.001000e-02 reg 1.001000e+04 train accuracy: 0.100265 val accuracy: 0.087000\n",
      "lr 9.001000e-02 reg 2.001000e+04 train accuracy: 0.100265 val accuracy: 0.087000\n",
      "lr 9.001000e-02 reg 3.001000e+04 train accuracy: 0.100265 val accuracy: 0.087000\n",
      "lr 9.001000e-02 reg 4.001000e+04 train accuracy: 0.100265 val accuracy: 0.087000\n",
      "lr 9.001000e-02 reg 5.001000e+04 train accuracy: 0.100265 val accuracy: 0.087000\n",
      "lr 9.001000e-02 reg 6.001000e+04 train accuracy: 0.100265 val accuracy: 0.087000\n",
      "lr 9.001000e-02 reg 7.001000e+04 train accuracy: 0.100265 val accuracy: 0.087000\n",
      "lr 9.001000e-02 reg 8.001000e+04 train accuracy: 0.100265 val accuracy: 0.087000\n",
      "lr 9.001000e-02 reg 9.001000e+04 train accuracy: 0.100265 val accuracy: 0.087000\n",
      "best validation accuracy achieved during cross-validation: 0.306000\n"
     ]
    }
   ],
   "source": [
    "# Use the validation set to tune hyperparameters (regularization strength and\n",
    "# learning rate). You should experiment with different ranges for the learning\n",
    "# rates and regularization strengths; if you are careful you should be able to\n",
    "# get a classification accuracy of over 0.35 on the validation set.\n",
    "from cs231n.classifiers import Softmax\n",
    "results = {}\n",
    "best_val = -1\n",
    "best_softmax = None\n",
    "learning_rates = np.arange(1e-05, 0.1, 0.01)\n",
    "regularization_strengths = np.arange(10,1e5,10000)\n",
    "\n",
    "################################################################################\n",
    "# TODO:                                                                        #\n",
    "# Use the validation set to set the learning rate and regularization strength. #\n",
    "# This should be identical to the validation that you did for the softmax; save    #\n",
    "# the best trained softmax classifer in best_softmax.                          #\n",
    "################################################################################\n",
    "for learning_rate in learning_rates:\n",
    "    for regularization_strength in regularization_strengths: \n",
    "        softmax = Softmax()\n",
    "        loss_hist = softmax.train(X_train, y_train, learning_rate=learning_rate, reg=regularization_strength,\n",
    "                              num_iters=1000, verbose=False)\n",
    "        y_train_pred = softmax.predict(X_train)\n",
    "        y_val_pred = softmax.predict(X_val)\n",
    "        \n",
    "        train_result = np.mean(y_train == y_train_pred)\n",
    "        val_result = np.mean(y_val == y_val_pred)\n",
    "        results[(learning_rate, regularization_strength)] = (train_result, val_result)\n",
    "        if val_result > best_val:\n",
    "            best_val = val_result\n",
    "            best_softmax = softmax\n",
    "################################################################################\n",
    "#                              END OF YOUR CODE                                #\n",
    "################################################################################\n",
    "    \n",
    "# Print out results.\n",
    "for lr, reg in sorted(results):\n",
    "    train_accuracy, val_accuracy = results[(lr, reg)]\n",
    "    print 'lr %e reg %e train accuracy: %f val accuracy: %f' % (\n",
    "                lr, reg, train_accuracy, val_accuracy)\n",
    "    \n",
    "print 'best validation accuracy achieved during cross-validation: %f' % best_val"
   ]
  },
  {
   "cell_type": "code",
   "execution_count": 64,
   "metadata": {
    "collapsed": false
   },
   "outputs": [
    {
     "name": "stdout",
     "output_type": "stream",
     "text": [
      "softmax on raw pixels final test set accuracy: 0.281000\n"
     ]
    }
   ],
   "source": [
    "# evaluate on test set\n",
    "# Evaluate the best softmax on test set\n",
    "y_test_pred = best_softmax.predict(X_test)\n",
    "test_accuracy = np.mean(y_test == y_test_pred)\n",
    "print 'softmax on raw pixels final test set accuracy: %f' % (test_accuracy, )"
   ]
  },
  {
   "cell_type": "code",
   "execution_count": 65,
   "metadata": {
    "collapsed": false
   },
   "outputs": [
    {
     "data": {
      "image/png": "[encoded data removed]",
      "text/plain": [
       "<matplotlib.figure.Figure at 0x111197c10>"
      ]
     },
     "metadata": {},
     "output_type": "display_data"
    }
   ],
   "source": [
    "# Visualize the learned weights for each class\n",
    "w = best_softmax.W[:-1,:] # strip out the bias\n",
    "w = w.reshape(32, 32, 3, 10)\n",
    "\n",
    "w_min, w_max = np.min(w), np.max(w)\n",
    "\n",
    "classes = ['plane', 'car', 'bird', 'cat', 'deer', 'dog', 'frog', 'horse', 'ship', 'truck']\n",
    "for i in xrange(10):\n",
    "  plt.subplot(2, 5, i + 1)\n",
    "  \n",
    "  # Rescale the weights to be between 0 and 255\n",
    "  wimg = 255.0 * (w[:, :, :, i].squeeze() - w_min) / (w_max - w_min)\n",
    "  plt.imshow(wimg.astype('uint8'))\n",
    "  plt.axis('off')\n",
    "  plt.title(classes[i])"
   ]
  }
 ],
 "metadata": {
  "kernelspec": {
   "display_name": "Python [Root]",
   "language": "python",
   "name": "Python [Root]"
  },
  "language_info": {
   "codemirror_mode": {
    "name": "ipython",
    "version": 2
   },
   "file_extension": ".py",
   "mimetype": "text/x-python",
   "name": "python",
   "nbconvert_exporter": "python",
   "pygments_lexer": "ipython2",
   "version": "2.7.12"
  }
 },
 "nbformat": 4,
 "nbformat_minor": 0
}
